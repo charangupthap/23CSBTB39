{
  "nbformat": 4,
  "nbformat_minor": 0,
  "metadata": {
    "colab": {
      "provenance": [],
      "authorship_tag": "ABX9TyMV+K8iLstwOC8/2LEWcuIv",
      "include_colab_link": true
    },
    "kernelspec": {
      "name": "python3",
      "display_name": "Python 3"
    },
    "language_info": {
      "name": "python"
    }
  },
  "cells": [
    {
      "cell_type": "markdown",
      "metadata": {
        "id": "view-in-github",
        "colab_type": "text"
      },
      "source": [
        "<a href=\"https://colab.research.google.com/github/charangupthap/23CSBTB39/blob/main/Untitled7_pnyb.ipynb\" target=\"_parent\"><img src=\"https://colab.research.google.com/assets/colab-badge.svg\" alt=\"Open In Colab\"/></a>"
      ]
    },
    {
      "cell_type": "code",
      "execution_count": null,
      "metadata": {
        "id": "Fvj9sqAQW7k5"
      },
      "outputs": [],
      "source": [
        "#Import scikit-learn dataset library\n",
        "from sklearn import datasets\n",
        "\n",
        "#Load dataset\n",
        "cancer = datasets.load_breast_cancer()\n",
        "\n",
        "#print the label type of cancer('malignant' 'benign')\n",
        "print(\"Labels:\", cancer.target_names)\n",
        "\n",
        "#print data(feature)shape\n",
        "cancer.data.shape\n",
        "\n",
        "#print the cancer data features(top 5 records)\n",
        "print(cancer.data[0:5])\n",
        "\n",
        "#print the cancer labels(0:maligrant, 1:benefit)\n",
        "print(cancer.target)\n",
        "\n",
        "#Import train_test_split function\n",
        "from sklearn.model_selection import train_test_split\n",
        "\n",
        "#Split dataset into training set and test set\n",
        "X_train,X_test,y_train,y_test = train_test_split(cancer.data,cancer.target,test_size=0.3,random_state=109) # 70% and 30% test"
      ]
    }
  ]
}